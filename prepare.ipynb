{
 "cells": [
  {
   "cell_type": "code",
   "execution_count": 1,
   "metadata": {
    "collapsed": true,
    "ExecuteTime": {
     "end_time": "2024-03-29T13:38:27.895792Z",
     "start_time": "2024-03-29T13:38:26.825746Z"
    }
   },
   "outputs": [
    {
     "name": "stdout",
     "output_type": "stream",
     "text": [
      "Requirement already satisfied: pandas in /opt/homebrew/anaconda3/lib/python3.11/site-packages (1.5.3)\r\n",
      "Requirement already satisfied: numpy in /opt/homebrew/anaconda3/lib/python3.11/site-packages (1.24.3)\r\n",
      "Requirement already satisfied: jieba in /opt/homebrew/anaconda3/lib/python3.11/site-packages (0.42.1)\r\n",
      "\u001B[31mERROR: Could not find a version that satisfies the requirement json (from versions: none)\u001B[0m\u001B[31m\r\n",
      "\u001B[0m\u001B[31mERROR: No matching distribution found for json\u001B[0m\u001B[31m\r\n",
      "\u001B[0m"
     ]
    }
   ],
   "source": [
    "!pip install pandas numpy jieba tqdm jupyter"
   ]
  },
  {
   "cell_type": "code",
   "execution_count": null,
   "outputs": [],
   "source": [
    "# PyTorch for Windows, CPU version\n",
    "!pip3 install torch torchvision torchaudio"
   ],
   "metadata": {
    "collapsed": false
   }
  },
  {
   "cell_type": "code",
   "execution_count": null,
   "outputs": [],
   "source": [
    "# Please refer to https://pytorch.org to get more installation options, including cuda (GPU)."
   ],
   "metadata": {
    "collapsed": false
   }
  },
  {
   "cell_type": "code",
   "execution_count": 1,
   "outputs": [],
   "source": [
    "import copy\n",
    "import math\n",
    "import pandas as pd\n",
    "import numpy as np\n",
    "import jieba\n",
    "# import nltk\n",
    "# import spacy\n",
    "import json\n",
    "from collections import Counter\n",
    "from tqdm.notebook import tqdm\n",
    "import torch\n",
    "from torch.nn import functional as F"
   ],
   "metadata": {
    "collapsed": false,
    "ExecuteTime": {
     "end_time": "2024-03-31T01:15:54.726579Z",
     "start_time": "2024-03-31T01:15:53.335884Z"
    }
   }
  },
  {
   "cell_type": "code",
   "execution_count": 2,
   "outputs": [],
   "source": [
    "datapath = 'data/test-f.csv'"
   ],
   "metadata": {
    "collapsed": false,
    "ExecuteTime": {
     "end_time": "2024-03-31T01:16:02.336113Z",
     "start_time": "2024-03-31T01:16:02.328514Z"
    }
   }
  },
  {
   "cell_type": "code",
   "execution_count": 4,
   "outputs": [],
   "source": [
    "data = pd.read_csv(datapath,index_col=0)\n",
    "data_records = data.to_dict('records')"
   ],
   "metadata": {
    "collapsed": false,
    "ExecuteTime": {
     "end_time": "2024-03-31T01:16:22.899789Z",
     "start_time": "2024-03-31T01:16:22.870432Z"
    }
   }
  },
  {
   "cell_type": "code",
   "execution_count": 14,
   "outputs": [
    {
     "data": {
      "text/plain": "dict_keys(['id', 'content', 'task-1', 'task-2'])"
     },
     "execution_count": 14,
     "metadata": {},
     "output_type": "execute_result"
    }
   ],
   "source": [
    "data_records[0].keys()"
   ],
   "metadata": {
    "collapsed": false,
    "ExecuteTime": {
     "end_time": "2024-03-31T01:18:59.569871Z",
     "start_time": "2024-03-31T01:18:59.563307Z"
    }
   }
  },
  {
   "cell_type": "code",
   "execution_count": 5,
   "outputs": [],
   "source": [
    "sample_string = data_records[42]['content']"
   ],
   "metadata": {
    "collapsed": false,
    "ExecuteTime": {
     "end_time": "2024-03-31T01:16:24.161490Z",
     "start_time": "2024-03-31T01:16:24.154327Z"
    }
   }
  },
  {
   "cell_type": "code",
   "execution_count": 9,
   "outputs": [
    {
     "name": "stdout",
     "output_type": "stream",
     "text": [
      "有些事越想要越得不到，有些梦只能相信，是这样吗\n"
     ]
    },
    {
     "data": {
      "text/plain": "['有些', '事越', '想要', '越', '得不到', '，', '有些', '梦', '只能', '相信', '，', '是', '这样', '吗']"
     },
     "execution_count": 9,
     "metadata": {},
     "output_type": "execute_result"
    }
   ],
   "source": [
    "print(sample_string)\n",
    "list(jieba.cut(sample_string))"
   ],
   "metadata": {
    "collapsed": false,
    "ExecuteTime": {
     "end_time": "2024-03-31T01:17:54.475011Z",
     "start_time": "2024-03-31T01:17:54.470200Z"
    }
   }
  },
  {
   "cell_type": "code",
   "execution_count": 10,
   "outputs": [],
   "source": [
    "def cut_sentence(sent): # tokenizer\n",
    "    \"\"\"\n",
    "    :param sent: str\n",
    "    :return:  list\n",
    "\n",
    "    Write your own code here\n",
    "    \"\"\"\n",
    "\n",
    "    return jieba.cut(sent)"
   ],
   "metadata": {
    "collapsed": false,
    "ExecuteTime": {
     "end_time": "2024-03-31T01:18:17.271304Z",
     "start_time": "2024-03-31T01:18:17.267466Z"
    }
   }
  },
  {
   "cell_type": "code",
   "execution_count": 16,
   "outputs": [
    {
     "data": {
      "text/plain": "{'id': 1,\n 'content': '宿舍要民汉合宿了为毛都大三了还要折腾我',\n 'task-1': 'neg',\n 'task-2': 'angry',\n 'tokens_1': ['宿舍', '要民汉合宿', '了', '为', '毛', '都', '大三', '了', '还要', '折腾', '我']}"
     },
     "execution_count": 16,
     "metadata": {},
     "output_type": "execute_result"
    }
   ],
   "source": [
    "for idx,r in enumerate(data_records):\n",
    "    data_records[idx]['tokens_1'] = list(cut_sentence(r['content']))\n",
    "data_records[0]"
   ],
   "metadata": {
    "collapsed": false,
    "ExecuteTime": {
     "end_time": "2024-03-31T01:20:03.316081Z",
     "start_time": "2024-03-31T01:20:02.799719Z"
    }
   }
  },
  {
   "cell_type": "code",
   "execution_count": 12,
   "outputs": [
    {
     "data": {
      "text/plain": "<generator object Tokenizer.cut at 0x16d494880>"
     },
     "execution_count": 12,
     "metadata": {},
     "output_type": "execute_result"
    }
   ],
   "source": [
    "# try your function\n",
    "cut_sentence(sample_string)"
   ],
   "metadata": {
    "collapsed": false,
    "ExecuteTime": {
     "end_time": "2024-03-31T01:18:30.143762Z",
     "start_time": "2024-03-31T01:18:30.137458Z"
    }
   }
  },
  {
   "cell_type": "code",
   "execution_count": 7,
   "outputs": [],
   "source": [
    "def get_stopwords():\n",
    "    \"\"\"\n",
    "    You can provide A better list, here is an example.\n",
    "    https://github.com/goto456/stopwords\n",
    "    \"\"\"\n",
    "    return\n",
    "stop_words = get_stopwords()"
   ],
   "metadata": {
    "collapsed": false,
    "ExecuteTime": {
     "end_time": "2024-03-28T11:42:02.594868Z",
     "start_time": "2024-03-28T11:42:02.592185Z"
    }
   }
  },
  {
   "cell_type": "code",
   "execution_count": 8,
   "outputs": [],
   "source": [
    "def strip_stopwords(words,stopwords):\n",
    "    \"\"\"\n",
    "    :param words: LIST\n",
    "    :param stopwords: LIST\n",
    "    :return: LIST OF WORDS AFTER FILTERING\n",
    "    \"\"\"\n",
    "    return"
   ],
   "metadata": {
    "collapsed": false,
    "ExecuteTime": {
     "end_time": "2024-03-28T11:42:02.597202Z",
     "start_time": "2024-03-28T11:42:02.595614Z"
    }
   }
  },
  {
   "cell_type": "code",
   "execution_count": 9,
   "outputs": [
    {
     "data": {
      "text/plain": "['事越', '想要', '越', '得不到', '梦', '只能', '相信']"
     },
     "execution_count": 9,
     "metadata": {},
     "output_type": "execute_result"
    }
   ],
   "source": [
    "strip_stopwords(cut_sentence(sample_string),stop_words)"
   ],
   "metadata": {
    "collapsed": false,
    "ExecuteTime": {
     "end_time": "2024-03-28T11:42:02.600231Z",
     "start_time": "2024-03-28T11:42:02.597966Z"
    }
   }
  },
  {
   "cell_type": "code",
   "execution_count": 10,
   "outputs": [],
   "source": [
    "\"\"\"\n",
    "Now loop over all sentences to get their words,\n",
    "then save the results to the variable data_records for later call.\n",
    "\"\"\"\n",
    "def process_content(data_records):\n",
    "    \"\"\"\n",
    "    Your code here....\n",
    "    :return: list\n",
    "    \"\"\"\n",
    "\n",
    "    return\n",
    "\n",
    "recordsWithWords = process_content(data_records)"
   ],
   "metadata": {
    "collapsed": false,
    "ExecuteTime": {
     "end_time": "2024-03-28T11:42:03.419845Z",
     "start_time": "2024-03-28T11:42:02.624800Z"
    }
   }
  },
  {
   "cell_type": "code",
   "execution_count": 11,
   "outputs": [
    {
     "name": "stdout",
     "output_type": "stream",
     "text": [
      "['宿舍', '要民汉合宿', '毛', '大三', '折腾', '早上', '竟然', '变成', '一个', '无理取闹', '…', '…', '多年', '周天', '先生', '率', '智多星', '律师', '策划师', '团队']\n"
     ]
    }
   ],
   "source": [
    "wordCorpus = []\n",
    "for item in recordsWithWords:\n",
    "    wordCorpus+=item['words']\n",
    "print(wordCorpus[:20])"
   ],
   "metadata": {
    "collapsed": false,
    "ExecuteTime": {
     "end_time": "2024-03-28T11:42:03.425110Z",
     "start_time": "2024-03-28T11:42:03.421430Z"
    }
   }
  },
  {
   "cell_type": "code",
   "execution_count": 12,
   "outputs": [],
   "source": [
    "# construct the vocabulary list\n",
    "\n",
    "def construct_vocab(wordCorpus,save=True):\n",
    "    \"\"\"\n",
    "    :param word_list:list\n",
    "    :return: a vocab set\n",
    "    [Attention]: A set means there is no repeat item.\n",
    "    \"\"\"\n",
    "\n",
    "    #Your code here..\n",
    "\n",
    "    ## You don't have to modify the following code\n",
    "    if save:\n",
    "        res = vocab\n",
    "        res.sort()\n",
    "        json.dump(res,open('results/vocab.json','w'),ensure_ascii=False)\n",
    "    return vocab\n",
    "vocab = construct_vocab(wordCorpus)\n",
    "word2id = {w:idx for idx,w in enumerate(vocab)}"
   ],
   "metadata": {
    "collapsed": false,
    "ExecuteTime": {
     "end_time": "2024-03-28T11:42:03.459613Z",
     "start_time": "2024-03-28T11:42:03.424902Z"
    }
   }
  },
  {
   "cell_type": "code",
   "execution_count": 13,
   "outputs": [],
   "source": [
    "def wordFreq(wordList):\n",
    "    return"
   ],
   "metadata": {
    "collapsed": false,
    "ExecuteTime": {
     "end_time": "2024-03-28T11:42:03.461689Z",
     "start_time": "2024-03-28T11:42:03.444182Z"
    }
   }
  },
  {
   "cell_type": "code",
   "execution_count": 14,
   "outputs": [],
   "source": [
    "vocabFreq = { w:0 for idx,w in enumerate(vocab)}\n",
    "wordCounted = wordFreq(wordCorpus)\n",
    "vocabFreq.update(wordCounted)"
   ],
   "metadata": {
    "collapsed": false,
    "ExecuteTime": {
     "end_time": "2024-03-28T11:42:03.461861Z",
     "start_time": "2024-03-28T11:42:03.459835Z"
    }
   }
  },
  {
   "cell_type": "code",
   "execution_count": 15,
   "outputs": [],
   "source": [
    "def get_total_freq_of_sentence(wordList,Freq):\n",
    "    return\n",
    "\n",
    "def convert_words2freqs(wordList,Freq):\n",
    "    return"
   ],
   "metadata": {
    "collapsed": false,
    "ExecuteTime": {
     "end_time": "2024-03-28T11:42:03.461900Z",
     "start_time": "2024-03-28T11:42:03.459937Z"
    }
   }
  },
  {
   "cell_type": "markdown",
   "source": [
    "TF Calculation\n",
    "\n",
    "为每个句子中的单词计算对应的 在句子中的 词频 aka TF: term frequency\n",
    "\n",
    " $tf_{i,j} = \\frac{n_{i,j}}{\\sum_{k}n_{k,j}}$,\n",
    "\n",
    "i 是词语索引, j 是句子索引\n"
   ],
   "metadata": {
    "collapsed": false
   }
  },
  {
   "cell_type": "markdown",
   "source": [
    " each sentence will construct its features on the scale of the whole vocabulary list"
   ],
   "metadata": {
    "collapsed": false
   }
  },
  {
   "cell_type": "code",
   "execution_count": 16,
   "outputs": [],
   "source": [
    "def get_tf_feat(wordList,vocab):\n",
    "\n",
    "    return"
   ],
   "metadata": {
    "collapsed": false,
    "ExecuteTime": {
     "end_time": "2024-03-28T11:42:03.468371Z",
     "start_time": "2024-03-28T11:42:03.463129Z"
    }
   }
  },
  {
   "cell_type": "code",
   "execution_count": 17,
   "outputs": [
    {
     "data": {
      "text/plain": "21624"
     },
     "execution_count": 17,
     "metadata": {},
     "output_type": "execute_result"
    }
   ],
   "source": [
    "vocab_size = len(vocab)\n",
    "len(vocab)"
   ],
   "metadata": {
    "collapsed": false,
    "ExecuteTime": {
     "end_time": "2024-03-28T11:42:03.468637Z",
     "start_time": "2024-03-28T11:42:03.465842Z"
    }
   }
  },
  {
   "cell_type": "code",
   "execution_count": 18,
   "outputs": [
    {
     "data": {
      "text/plain": "  0%|          | 0/5000 [00:00<?, ?it/s]",
      "application/vnd.jupyter.widget-view+json": {
       "version_major": 2,
       "version_minor": 0,
       "model_id": "1c740a6f098c4d2481a6def8e8dd1943"
      }
     },
     "metadata": {},
     "output_type": "display_data"
    }
   ],
   "source": [
    "recordsWithTF = copy.deepcopy(recordsWithWords)\n",
    "for idx,item in enumerate(tqdm(recordsWithTF)):\n",
    "    tf = get_tf_feat(item['words'],vocab)\n",
    "    item['TF_array'] = tf"
   ],
   "metadata": {
    "collapsed": false,
    "ExecuteTime": {
     "end_time": "2024-03-28T11:42:11.446281Z",
     "start_time": "2024-03-28T11:42:03.480833Z"
    }
   }
  },
  {
   "cell_type": "code",
   "execution_count": 19,
   "outputs": [
    {
     "data": {
      "text/plain": "[0.14285714285714285,\n 0.14285714285714285,\n 0.14285714285714285,\n 0.14285714285714285,\n 0.14285714285714285,\n 0.14285714285714285,\n 0.14285714285714285]"
     },
     "execution_count": 19,
     "metadata": {},
     "output_type": "execute_result"
    }
   ],
   "source": [
    "[item for item in recordsWithTF[42]['TF_array'].tolist() if item!=0]"
   ],
   "metadata": {
    "collapsed": false,
    "ExecuteTime": {
     "end_time": "2024-03-28T11:42:11.478940Z",
     "start_time": "2024-03-28T11:42:11.449342Z"
    }
   }
  },
  {
   "cell_type": "markdown",
   "source": [
    "IDF Calculation\n",
    "\n",
    "$idf_i = lg\\frac{|D|}{1 + |{j:t_i \\in d_j}|}$\n",
    "\n",
    "|D|: the total of sentences\n",
    "$d_j$: the specific j-th sentence\n",
    "|{j:t_i \\in d_j}|: the number of sentences that contains the word $t_i$\n",
    "\n",
    "1+: avoid zero division when the word not in any sentences"
   ],
   "metadata": {
    "collapsed": false
   }
  },
  {
   "cell_type": "code",
   "execution_count": 20,
   "outputs": [],
   "source": [
    "def calculateCorpusIDF(vocab,ListOfWordList):\n",
    "\n",
    "    return\n",
    "\n",
    "\n",
    "def get_idf_feat(wordList,idf_values):\n",
    "    assert idf_values != None\n",
    "\n",
    "    return"
   ],
   "metadata": {
    "collapsed": false,
    "ExecuteTime": {
     "end_time": "2024-03-28T11:42:11.538373Z",
     "start_time": "2024-03-28T11:42:11.468843Z"
    }
   }
  },
  {
   "cell_type": "code",
   "execution_count": 21,
   "outputs": [
    {
     "data": {
      "text/plain": "  0%|          | 0/21624 [00:00<?, ?it/s]",
      "application/vnd.jupyter.widget-view+json": {
       "version_major": 2,
       "version_minor": 0,
       "model_id": "11d93965f9ed43b0bfb14937b10a5f87"
      }
     },
     "metadata": {},
     "output_type": "display_data"
    }
   ],
   "source": [
    "idf_values = calculateCorpusIDF(vocab,[item['words'] for item in data_records])"
   ],
   "metadata": {
    "collapsed": false,
    "ExecuteTime": {
     "end_time": "2024-03-28T11:42:25.449005Z",
     "start_time": "2024-03-28T11:42:11.474559Z"
    }
   }
  },
  {
   "cell_type": "code",
   "execution_count": 22,
   "outputs": [],
   "source": [
    "recordsWithTFIDF = copy.deepcopy(recordsWithTF)\n",
    "for idx,r in enumerate(recordsWithTFIDF):\n",
    "    r['IDF'] = get_idf_feat(r['words'],idf_values)\n",
    "    recordsWithTFIDF[idx] = r"
   ],
   "metadata": {
    "collapsed": false,
    "ExecuteTime": {
     "end_time": "2024-03-28T11:42:26.253281Z",
     "start_time": "2024-03-28T11:42:25.450095Z"
    }
   }
  },
  {
   "cell_type": "code",
   "execution_count": 23,
   "outputs": [
    {
     "data": {
      "text/plain": "{'id': 43,\n 'content': '有些事越想要越得不到，有些梦只能相信，是这样吗',\n 'task-1': 'neg',\n 'task-2': 'sad',\n 'words': ['事越', '想要', '越', '得不到', '梦', '只能', '相信'],\n 'TF_array': array([0., 0., 0., ..., 0., 0., 0.]),\n 'IDF': array([0., 0., 0., ..., 0., 0., 0.])}"
     },
     "execution_count": 23,
     "metadata": {},
     "output_type": "execute_result"
    }
   ],
   "source": [
    "recordsWithTFIDF[42]"
   ],
   "metadata": {
    "collapsed": false,
    "ExecuteTime": {
     "end_time": "2024-03-28T11:42:26.257198Z",
     "start_time": "2024-03-28T11:42:26.254408Z"
    }
   }
  },
  {
   "cell_type": "code",
   "execution_count": 24,
   "outputs": [
    {
     "data": {
      "text/plain": "[7.824046010856292,\n 4.688551794927142,\n 6.725433722188183,\n 4.645992180508347,\n 4.990832666800076,\n 5.221356325411908,\n 5.115995809754082]"
     },
     "execution_count": 24,
     "metadata": {},
     "output_type": "execute_result"
    }
   ],
   "source": [
    "[item for item in recordsWithTFIDF[42]['IDF'].tolist() if item!=0]"
   ],
   "metadata": {
    "collapsed": false,
    "ExecuteTime": {
     "end_time": "2024-03-28T11:42:26.260292Z",
     "start_time": "2024-03-28T11:42:26.257694Z"
    }
   }
  },
  {
   "cell_type": "code",
   "execution_count": 25,
   "outputs": [],
   "source": [
    "def get_tf_idf_feat(wordList,idf_values,vocab):\n",
    "\n",
    "    return"
   ],
   "metadata": {
    "collapsed": false,
    "ExecuteTime": {
     "end_time": "2024-03-28T11:42:26.261875Z",
     "start_time": "2024-03-28T11:42:26.260730Z"
    }
   }
  },
  {
   "cell_type": "code",
   "execution_count": 26,
   "outputs": [
    {
     "data": {
      "text/plain": "  0%|          | 0/5000 [00:00<?, ?it/s]",
      "application/vnd.jupyter.widget-view+json": {
       "version_major": 2,
       "version_minor": 0,
       "model_id": "5a6414fc16c34f01b5cd3df6f49f8b2a"
      }
     },
     "metadata": {},
     "output_type": "display_data"
    }
   ],
   "source": [
    "recordsWithTFIDF = copy.deepcopy(recordsWithTFIDF)\n",
    "\n",
    "for idx,r in enumerate(tqdm(recordsWithTFIDF)):\n",
    "    r['TFIDF'] = get_tf_idf_feat(r['words'],idf_values,vocab)\n",
    "    recordsWithTFIDF[idx] = r"
   ],
   "metadata": {
    "collapsed": false,
    "ExecuteTime": {
     "end_time": "2024-03-28T11:42:33.998583Z",
     "start_time": "2024-03-28T11:42:26.263098Z"
    }
   }
  },
  {
   "cell_type": "code",
   "execution_count": 27,
   "outputs": [
    {
     "data": {
      "text/plain": "{'id': 43,\n 'content': '有些事越想要越得不到，有些梦只能相信，是这样吗',\n 'task-1': 'neg',\n 'task-2': 'sad',\n 'words': ['事越', '想要', '越', '得不到', '梦', '只能', '相信'],\n 'TF_array': array([0., 0., 0., ..., 0., 0., 0.]),\n 'IDF': array([0., 0., 0., ..., 0., 0., 0.]),\n 'TFIDF': array([0., 0., 0., ..., 0., 0., 0.])}"
     },
     "execution_count": 27,
     "metadata": {},
     "output_type": "execute_result"
    }
   ],
   "source": [
    "recordsWithTFIDF[42]"
   ],
   "metadata": {
    "collapsed": false,
    "ExecuteTime": {
     "end_time": "2024-03-28T11:42:34.002529Z",
     "start_time": "2024-03-28T11:42:34.000040Z"
    }
   }
  },
  {
   "cell_type": "code",
   "execution_count": 28,
   "outputs": [
    {
     "data": {
      "text/plain": "[1.117720858693756,\n 0.6697931135610203,\n 0.9607762460268832,\n 0.6637131686440495,\n 0.7129760952571537,\n 0.7459080464874154,\n 0.7308565442505831]"
     },
     "execution_count": 28,
     "metadata": {},
     "output_type": "execute_result"
    }
   ],
   "source": [
    "[item for item in recordsWithTFIDF[42]['TFIDF'].tolist() if item!=0]"
   ],
   "metadata": {
    "collapsed": false,
    "ExecuteTime": {
     "end_time": "2024-03-28T11:42:34.005191Z",
     "start_time": "2024-03-28T11:42:34.003465Z"
    }
   }
  },
  {
   "cell_type": "markdown",
   "source": [
    "相似度计算"
   ],
   "metadata": {
    "collapsed": false
   }
  },
  {
   "cell_type": "code",
   "execution_count": 29,
   "outputs": [],
   "source": [
    "def similarity(vec_a,vec_b):\n",
    "    \"\"\"\n",
    "    :param vec_a: np array\n",
    "    :param vec_b: np array\n",
    "    :return: float\n",
    "    \"\"\"\n",
    "    return"
   ],
   "metadata": {
    "collapsed": false,
    "ExecuteTime": {
     "end_time": "2024-03-28T11:42:34.007037Z",
     "start_time": "2024-03-28T11:42:34.006179Z"
    }
   }
  },
  {
   "cell_type": "code",
   "execution_count": 36,
   "outputs": [],
   "source": [
    "tfidfs = np.array([item['TFIDF'] for item in recordsWithTFIDF])"
   ],
   "metadata": {
    "collapsed": false,
    "ExecuteTime": {
     "end_time": "2024-03-28T11:45:05.106133Z",
     "start_time": "2024-03-28T11:45:04.509511Z"
    }
   }
  },
  {
   "cell_type": "code",
   "execution_count": 31,
   "outputs": [
    {
     "data": {
      "text/plain": "  0%|          | 0/5000 [00:00<?, ?it/s]",
      "application/vnd.jupyter.widget-view+json": {
       "version_major": 2,
       "version_minor": 0,
       "model_id": "75518af4015d4735862e3cae9edbdb2d"
      }
     },
     "metadata": {},
     "output_type": "display_data"
    },
    {
     "name": "stderr",
     "output_type": "stream",
     "text": [
      "\n",
      "KeyboardInterrupt\n",
      "\n"
     ]
    }
   ],
   "source": [
    "sim = np.zeros((len(tfidfs),len(tfidfs)))\n",
    "for x in tqdm(range(len(tfidfs))):\n",
    "    for y in range(len(tfidfs)):\n",
    "        sim[x,y] = similarity(tfidfs[x],tfidfs[y])"
   ],
   "metadata": {
    "collapsed": false,
    "ExecuteTime": {
     "end_time": "2024-03-28T11:43:00.689417Z",
     "start_time": "2024-03-28T11:42:34.162850Z"
    }
   }
  }
 ],
 "metadata": {
  "kernelspec": {
   "display_name": "Python 3",
   "language": "python",
   "name": "python3"
  },
  "language_info": {
   "codemirror_mode": {
    "name": "ipython",
    "version": 2
   },
   "file_extension": ".py",
   "mimetype": "text/x-python",
   "name": "python",
   "nbconvert_exporter": "python",
   "pygments_lexer": "ipython2",
   "version": "2.7.6"
  }
 },
 "nbformat": 4,
 "nbformat_minor": 0
}
